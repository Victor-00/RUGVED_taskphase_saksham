{
 "cells": [
  {
   "cell_type": "code",
   "execution_count": null,
   "metadata": {},
   "outputs": [],
   "source": [
    "import pandas as pd\n",
    "import matplotlib.pyplot as plt\n",
    "df =pd.read_csv(r'/home/saksham/Downloads/matches.csv')\n",
    "\n",
    "deliveries_df = pd.read_csv(r'/home/saksham/Downloads/deliveries.csv')\n",
    "matches_per_season = df.groupby('season').size()\n",
    "print(matches_per_season)"
   ]
  },
  {
   "cell_type": "code",
   "execution_count": null,
   "metadata": {},
   "outputs": [],
   "source": [
    "\n",
    "merged_data = pd.merge(deliveries_df, df, left_on='match_id', right_on='id')\n",
    "\n",
    "runs_per_season = merged_data.groupby('season')['total_runs'].sum()\n",
    "print(runs_per_season)"
   ]
  },
  {
   "cell_type": "code",
   "execution_count": null,
   "metadata": {},
   "outputs": [],
   "source": [
    "toss_decision_per_season = df.groupby(['season', 'toss_decision']).size().unstack()\n",
    "\n",
    "# Plotting\n",
    "toss_decision_per_season.plot(kind='bar', figsize=(10, 5))\n",
    "plt.title(\"Toss Decisions Across Seasons\")\n",
    "plt.ylabel(\"Number of Toss Decisions\")\n",
    "plt.xlabel(\"Season\")\n",
    "plt.show()"
   ]
  },
  {
   "cell_type": "code",
   "execution_count": null,
   "metadata": {},
   "outputs": [],
   "source": [
    "dismissals = deliveries_df['dismissal_kind'].value_counts()\n",
    "dismissals.plot(kind='bar',figsize=(20,6))\n",
    "plt.title(\"DISMISSAL KINDS & COUNT\")\n",
    "plt.xlabel(\"count\")\n",
    "plt.ylabel(\"dismissal kind\")\n",
    "plt.show()"
   ]
  },
  {
   "cell_type": "code",
   "execution_count": null,
   "metadata": {},
   "outputs": [],
   "source": [
    "top_scorers = deliveries_df.groupby('batsman')['batsman_runs'].sum().sort_values(ascending=False).head(10)\n",
    "\n",
    "\n",
    "top_scorers.plot(kind='bar', figsize=(10, 6))\n",
    "plt.title(\"Top 10 Run Scorers in IPL\")\n",
    "plt.ylabel(\"Total Runs\")\n",
    "plt.xlabel(\"Batsman\")\n",
    "plt.show()"
   ]
  },
  {
   "cell_type": "code",
   "execution_count": null,
   "metadata": {},
   "outputs": [],
   "source": [
    "mom_awards=df['player_of_match'].value_counts().head(10)\n",
    "mom_awards.plot(kind='bar',figsize=(20,6))\n",
    "plt.title(\"top 10 players with mom awards\")\n",
    "plt.ylabel(\"Number of Awards\")\n",
    "plt.xlabel(\"Player\")\n",
    "plt.show()"
   ]
  },
  {
   "cell_type": "code",
   "execution_count": null,
   "metadata": {},
   "outputs": [],
   "source": [
    "\n",
    "matches_played = pd.concat([df['team1'], df['team2']]).value_counts()\n",
    "print(matches_played)\n",
    "\n",
    "\n"
   ]
  },
  {
   "cell_type": "code",
   "execution_count": null,
   "metadata": {},
   "outputs": [],
   "source": [
    "matches_played = pd.concat([df['team1'], df['team2']]).value_counts()\n",
    "total_wins = df['winner'].value_counts()\n",
    "win_rate = (total_wins / matches_played) * 100\n",
    "comparison_df = pd.DataFrame({'Total Matches': matches_played, 'Total Wins': total_wins, 'Win Rate (%)': win_rate})\n",
    "print(comparison_df)"
   ]
  },
  {
   "cell_type": "code",
   "execution_count": null,
   "metadata": {},
   "outputs": [],
   "source": [
    "won_distribution = df['winner'].value_counts()\n",
    "won_distribution.plot(kind='bar', figsize=(10, 6))\n",
    "plt.title(\"Distribution of Won Matches by Teams\")\n",
    "plt.ylabel(\"Number of Wins\")\n",
    "plt.xlabel(\"Team\")\n",
    "plt.show()"
   ]
  },
  {
   "cell_type": "code",
   "execution_count": null,
   "metadata": {},
   "outputs": [],
   "source": [
    "win_ratio = (total_wins / matches_played)\n",
    "print(win_ratio)"
   ]
  },
  {
   "cell_type": "code",
   "execution_count": null,
   "metadata": {},
   "outputs": [],
   "source": [
    "toss_choice = df.groupby(['toss_winner', 'toss_decision']).size().unstack()\n",
    "print(toss_choice)"
   ]
  },
  {
   "cell_type": "code",
   "execution_count": null,
   "metadata": {},
   "outputs": [],
   "source": []
  }
 ],
 "metadata": {
  "kernelspec": {
   "display_name": "Python 3 (ipykernel)",
   "language": "python",
   "name": "python3"
  },
  "language_info": {
   "codemirror_mode": {
    "name": "ipython",
    "version": 3
   },
   "file_extension": ".py",
   "mimetype": "text/x-python",
   "name": "python",
   "nbconvert_exporter": "python",
   "pygments_lexer": "ipython3",
   "version": "3.12.7"
  }
 },
 "nbformat": 4,
 "nbformat_minor": 4
}
